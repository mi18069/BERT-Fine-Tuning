{
 "cells": [
  {
   "cell_type": "markdown",
   "id": "1dbf7c63",
   "metadata": {},
   "source": [
    "# Model Training\n",
    "This notebook is used for training purposes of training and saving fine-tuned models on different size datasets and hiperparameters"
   ]
  },
  {
   "cell_type": "markdown",
   "id": "09633aa4",
   "metadata": {},
   "source": [
    "## Load Base Model\n",
    "\n",
    "Load base DistilBERT uncased model that will be used as a starting pretrained model for fine-tuning models\n"
   ]
  },
  {
   "cell_type": "code",
   "execution_count": 1,
   "id": "3f60b0e7",
   "metadata": {},
   "outputs": [],
   "source": [
    "import os\n",
    "import copy\n",
    "from transformers import AutoModel\n",
    "import torch\n",
    "from torch import nn\n",
    "from torch.utils.data import DataLoader\n",
    "from transformers import AutoModel\n",
    "from transformers import get_linear_schedule_with_warmup\n",
    "from models.ModelRetriever import get_full_classification_model, get_classification_head_model, get_adapters_model, get_lora_model\n",
    "from hf_utils import save_model_to_hf\n",
    "import json\n",
    "import time\n",
    "import pickle\n",
    "from sklearn.metrics import accuracy_score, f1_score\n",
    "from datasets import load_from_disk\n",
    "import numpy as np\n"
   ]
  },
  {
   "cell_type": "code",
   "execution_count": 2,
   "id": "266f58a4",
   "metadata": {},
   "outputs": [],
   "source": [
    "base_model = AutoModel.from_pretrained(\"bert-base-uncased\", dtype=torch.float32)"
   ]
  },
  {
   "cell_type": "markdown",
   "id": "92ae703f",
   "metadata": {},
   "source": [
    "Import necessary libraries for model training "
   ]
  },
  {
   "cell_type": "markdown",
   "id": "b3615cd9",
   "metadata": {},
   "source": [
    "## Prepare data for training\n",
    "\n",
    "Import necessary libraries and set global parameters for training and saving model"
   ]
  },
  {
   "cell_type": "code",
   "execution_count": null,
   "id": "4ee8725e",
   "metadata": {},
   "outputs": [],
   "source": []
  },
  {
   "cell_type": "code",
   "execution_count": 3,
   "id": "e48c1b7b",
   "metadata": {},
   "outputs": [],
   "source": [
    "METRICS_DIR = './training/training_metrics'\n",
    "TRAINER_DIR = './training/trainer_metrics'\n",
    "SEED = 42\n",
    "\n",
    "LR = {\n",
    "    'full': 1e-5,\n",
    "    'head': 1e-4,\n",
    "    'adapters': 1e-4,\n",
    "    'lora': 1e-4,\n",
    "}\n",
    "EPOCHS = {\n",
    "    'small': 5,\n",
    "    'medium': 5,\n",
    "    'full': 4\n",
    "}\n",
    "WEIGHT_DECAY = {\n",
    "    'small': 0.001,\n",
    "    'medium': 0.01,\n",
    "    'full': 0.03\n",
    "}\n",
    "NUM_LABELS = 2 # Binary classification problem\n",
    "MAX_LENGTH = 512 # Max length of tokens for examples, if less pad with 0, if more truncate\n",
    "BATCH_SIZE={\n",
    "    \"small\": 4,\n",
    "    \"medium\": 16,\n",
    "    \"full\": 16\n",
    "}\n",
    "DEVICE = \"cuda\" if torch.cuda.is_available() else \"cpu\""
   ]
  },
  {
   "cell_type": "markdown",
   "id": "e2cc1f1d",
   "metadata": {},
   "source": [
    "Paths to vectorized datasets ready for models to use <br>\n",
    "If empty, run Dataset_Loader.ipynb notebook"
   ]
  },
  {
   "cell_type": "code",
   "execution_count": 4,
   "id": "7aa001ea",
   "metadata": {},
   "outputs": [],
   "source": [
    "DATASETS_PATHS = {\n",
    "    'small': {\n",
    "        'train': './datasets/train_dataset_small',\n",
    "        'validation': './datasets/validation_dataset_small',\n",
    "        'test': './datasets/test_dataset'\n",
    "    },\n",
    "    'medium': {\n",
    "        'train': './datasets/train_dataset_medium',\n",
    "        'validation': './datasets/validation_dataset_medium',\n",
    "        'test': './datasets/test_dataset'\n",
    "    },\n",
    "    'full': {\n",
    "        'train': './datasets/train_dataset_full',\n",
    "        'validation': './datasets/validation_dataset_full',\n",
    "        'test': './datasets/test_dataset'\n",
    "    }\n",
    "}"
   ]
  },
  {
   "cell_type": "markdown",
   "id": "54f6f958",
   "metadata": {},
   "source": [
    "## Functions for training process\n",
    "\n",
    "For performing and monitoring training processes, also contains functions for saving results"
   ]
  },
  {
   "cell_type": "markdown",
   "id": "9c092a5c",
   "metadata": {},
   "source": [
    "Monitor training metrics, such as time for each epoch and gpu memory usage"
   ]
  },
  {
   "cell_type": "code",
   "execution_count": 5,
   "id": "227c3682",
   "metadata": {},
   "outputs": [],
   "source": [
    "class TrainingLogger:\n",
    "    \"\"\"\n",
    "    Tracks per-epoch time, GPU memory usage.\n",
    "    \"\"\"\n",
    "    def __init__(self):\n",
    "        self.epoch_times = []\n",
    "        self.memory_log = []\n",
    "        self.start_time = None\n",
    "        self.total_training_time = None\n",
    "\n",
    "    def start_training(self):\n",
    "        self.start_time = time.time()\n",
    "\n",
    "    def end_training(self):\n",
    "        self.total_training_time = time.time() - self.start_time\n",
    "\n",
    "    def log_epoch(self, epoch, epoch_start_time):\n",
    "        # time\n",
    "        epoch_time = time.time() - epoch_start_time\n",
    "        self.epoch_times.append({\"epoch\": epoch + 1, \"time_seconds\": epoch_time})\n",
    "\n",
    "        # GPU memory\n",
    "        if torch.cuda.is_available():\n",
    "            mem_mb = torch.cuda.memory_allocated(0) // (1024 ** 2)\n",
    "            self.memory_log.append({\"epoch\": epoch + 1, \"gpu_memory_used_mb\": int(mem_mb)})\n",
    "            "
   ]
  },
  {
   "cell_type": "markdown",
   "id": "e4c0f2a6",
   "metadata": {},
   "source": [
    "Monitor training metrics for later analisys"
   ]
  },
  {
   "cell_type": "code",
   "execution_count": 6,
   "id": "7a59251c",
   "metadata": {},
   "outputs": [],
   "source": [
    "class ModelTrainer:\n",
    "    def __init__(self, model: nn.Module, device: str = 'cpu'):\n",
    "        self.model = model.to(device)\n",
    "        self.device = device\n",
    "\n",
    "    def train(\n",
    "        self,\n",
    "        train_loader: DataLoader,\n",
    "        val_loader: DataLoader,\n",
    "        optimizer: torch.optim.Optimizer,\n",
    "        loss_fn: nn.Module,\n",
    "        epochs: int,\n",
    "        save_dir: TRAINER_DIR,\n",
    "        filename: str,\n",
    "        num_labels: int = NUM_LABELS,\n",
    "        grad_clip: float = 1.0,\n",
    "        scheduler = None,\n",
    "        early_stopping_patience: int = 1\n",
    "    ):\n",
    "        os.makedirs(save_dir, exist_ok=True)\n",
    "        best_model = None\n",
    "\n",
    "        best_val_loss = float('inf')\n",
    "        patience_counter = 0\n",
    "        \n",
    "        logger = TrainingLogger()\n",
    "        logger.start_training()\n",
    "\n",
    "        history = {\"train_loss\": [], \"val_loss\": [], \"val_accuracy\": [], \"val_f1\": []}\n",
    "\n",
    "        for epoch in range(epochs):\n",
    "            epoch_start = time.time()\n",
    "            self.model.train()\n",
    "            running_loss = 0.0\n",
    "            \n",
    "            for batch in train_loader:\n",
    "                input_ids     = batch[\"input_ids\"].to(self.device)\n",
    "                attention_mask= batch[\"attention_mask\"].to(self.device)\n",
    "                labels        = batch[\"label\"].to(self.device)\n",
    "\n",
    "                optimizer.zero_grad(set_to_none=True)\n",
    "                logits = self.model(input_ids, attention_mask=attention_mask)\n",
    "                loss = loss_fn(logits, labels)\n",
    "                loss.backward()\n",
    "\n",
    "                if grad_clip is not None:\n",
    "                    torch.nn.utils.clip_grad_norm_(\n",
    "                        (p for p in self.model.parameters() if p.requires_grad), grad_clip\n",
    "                    )\n",
    "            \n",
    "                optimizer.step()\n",
    "                if scheduler is not None:\n",
    "                    scheduler.step()\n",
    "                \n",
    "                running_loss += loss.item()\n",
    "\n",
    "            avg_train_loss = running_loss / max(1, len(train_loader))\n",
    "            history[\"train_loss\"].append(avg_train_loss)\n",
    "\n",
    "            # ---- validation ----\n",
    "            self.model.eval()\n",
    "            val_loss = 0.0\n",
    "            all_preds, all_labels = [], []\n",
    "            with torch.no_grad():\n",
    "                for batch in val_loader:\n",
    "                    input_ids      = batch[\"input_ids\"].to(self.device)\n",
    "                    attention_mask = batch[\"attention_mask\"].to(self.device)\n",
    "                    labels         = batch[\"label\"].to(self.device)\n",
    "                    \n",
    "                    logits = self.model(input_ids, attention_mask=attention_mask)\n",
    "                    loss = loss_fn(logits, labels)\n",
    "                    val_loss += loss.item()\n",
    "\n",
    "                    preds = torch.argmax(logits, dim=1).cpu()\n",
    "                    all_preds.extend(preds.tolist())\n",
    "                    all_labels.extend(labels.cpu().tolist())\n",
    "\n",
    "            avg_val_loss = val_loss / max(1, len(val_loader))\n",
    "            val_acc = accuracy_score(np.array(all_labels), np.array(all_preds))\n",
    "            val_f1 = f1_score(np.array(all_labels), np.array(all_preds), average=\"weighted\", labels=list(range(num_labels)))        \n",
    "\n",
    "\n",
    "            print(\n",
    "                f\"Epoch {epoch+1}/{epochs} | \"\n",
    "                f\"Train Loss: {avg_train_loss:.4f} | \"\n",
    "                f\"Val Loss: {avg_val_loss:.4f} | \"\n",
    "                f\"Val Acc: {val_acc:.4f} | \"\n",
    "                f\"Val F1: {val_f1:.4f}\"\n",
    "            )\n",
    "\n",
    "            if avg_val_loss < best_val_loss:\n",
    "                best_val_loss = avg_val_loss\n",
    "                patience_counter = 0\n",
    "                best_model = copy.deepcopy(self.model)\n",
    "            else:\n",
    "                patience_counter += 1\n",
    "                if patience_counter >= early_stopping_patience:\n",
    "                    print(f'Early stopping triggered at epoch {epoch + 1}')\n",
    "                    break\n",
    "\n",
    "            history[\"val_loss\"].append(avg_val_loss)\n",
    "            history[\"val_accuracy\"].append(val_acc)\n",
    "            history[\"val_f1\"].append(val_f1)\n",
    "\n",
    "            logger.log_epoch(epoch, epoch_start)\n",
    "            \n",
    "\n",
    "        logger.end_training()\n",
    "\n",
    "        if best_model is not None:\n",
    "            self.model = best_model\n",
    "            \n",
    "        # persist logs\n",
    "        log_blob = {\n",
    "            \"history\": history,\n",
    "            \"epoch_times\": logger.epoch_times,\n",
    "            \"gpu_memory_log\": logger.memory_log,\n",
    "            \"total_training_time_seconds\": logger.total_training_time,\n",
    "        }\n",
    "        \n",
    "        file_path = os.path.join(save_dir, f\"{filename}.pkl\")\n",
    "        with open(file_path, \"wb\") as f:\n",
    "            pickle.dump(log_blob, f)\n",
    "\n",
    "        print(f\"Saved metrics to: {file_path}\")\n",
    "        return history"
   ]
  },
  {
   "cell_type": "markdown",
   "id": "af1c8fc2",
   "metadata": {},
   "source": [
    "Start training process for each model <br>\n",
    "Returns fine-tuned model"
   ]
  },
  {
   "cell_type": "code",
   "execution_count": 7,
   "id": "3a8cc484",
   "metadata": {},
   "outputs": [],
   "source": [
    "def Train(model, size, name, learning_rate):\n",
    "    print(f\"\\n========== Training {name} ==========\")\n",
    "    save_dir = os.path.join(METRICS_DIR, name)\n",
    "    trainer = ModelTrainer(model, device=DEVICE)\n",
    "\n",
    "    train_ds = load_from_disk(DATASETS_PATHS[size]['train'])\n",
    "    val_ds = load_from_disk(DATASETS_PATHS[size]['validation'])\n",
    "\n",
    "    train_ds.set_format(type='torch', columns=['input_ids', 'attention_mask', 'label'])\n",
    "    val_ds.set_format(type='torch', columns=['input_ids', 'attention_mask', 'label'])\n",
    "\n",
    "    train_loader = DataLoader(train_ds, batch_size=BATCH_SIZE[size], shuffle=True)\n",
    "    val_loader = DataLoader(val_ds, batch_size=BATCH_SIZE[size], shuffle=False)     \n",
    "\n",
    "    # optimizer only on trainable params\n",
    "    optim = torch.optim.AdamW(\n",
    "        [p for p in model.parameters() if p.requires_grad], \n",
    "        lr=learning_rate,\n",
    "        weight_decay = WEIGHT_DECAY[size]\n",
    "    )\n",
    "\n",
    "    num_training_steps = len(train_loader) * EPOCHS[size]\n",
    "    warmup_rate = 0.25 if size == 'small' else 0.1\n",
    "    num_warmup_steps = int(warmup_rate * num_training_steps) # 10% warmup\n",
    "\n",
    "    scheduler = get_linear_schedule_with_warmup(\n",
    "                    optimizer = optim,\n",
    "                    num_warmup_steps = num_warmup_steps,\n",
    "                    num_training_steps = num_training_steps\n",
    "                )\n",
    "    \n",
    "    loss_fn = nn.CrossEntropyLoss()\n",
    "\n",
    "    # log param counts\n",
    "    trainable_params = sum(p.numel() for p in model.parameters() if p.requires_grad)\n",
    "    total_params     = sum(p.numel() for p in model.parameters())\n",
    "\n",
    "    os.makedirs(os.path.join(save_dir), exist_ok=True)\n",
    "    with open(os.path.join(save_dir, \"run_config.json\"), \"w\") as f:\n",
    "        json.dump({\n",
    "            \"model_name\": name,\n",
    "            \"epochs\": EPOCHS[size],\n",
    "            \"lr\": learning_rate,\n",
    "            \"num_labels\": NUM_LABELS,\n",
    "            \"max_length\": MAX_LENGTH,\n",
    "            \"trainable_params\": int(trainable_params),\n",
    "            \"total_params\": int(total_params),\n",
    "            \"device\": DEVICE\n",
    "        }, f, indent=2)\n",
    "\n",
    "    # Train model\n",
    "    trainer.train(\n",
    "        train_loader=train_loader,\n",
    "        val_loader=val_loader,\n",
    "        optimizer=optim,\n",
    "        scheduler=scheduler,\n",
    "        loss_fn=loss_fn,\n",
    "        epochs=EPOCHS[size],\n",
    "        save_dir=save_dir,\n",
    "        filename=name,\n",
    "        num_labels=NUM_LABELS,\n",
    "        grad_clip=1.0,\n",
    "        early_stopping_patience=1\n",
    "    )"
   ]
  },
  {
   "cell_type": "markdown",
   "id": "714413af",
   "metadata": {},
   "source": [
    "## Train models\n",
    "\n",
    "Each function will take base model, transform it to specific model suitable for different fine-tuning purpose and run execution on small, medium and full dataset. Returned model is saved on Hugging Face platform "
   ]
  },
  {
   "cell_type": "markdown",
   "id": "2b28d566",
   "metadata": {},
   "source": [
    "### Full Fine-Tuning\n",
    "Run execution on small, medium and full dataset. Save results on HF platform"
   ]
  },
  {
   "cell_type": "code",
   "execution_count": 8,
   "id": "f45d7178",
   "metadata": {},
   "outputs": [
    {
     "name": "stdout",
     "output_type": "stream",
     "text": [
      "\n",
      "========== Training full_fine_tuning_set_small ==========\n",
      "Epoch 1/5 | Train Loss: 0.7319 | Val Loss: 0.7003 | Val Acc: 0.5000 | Val F1: 0.4949\n",
      "Epoch 2/5 | Train Loss: 0.6339 | Val Loss: 0.6700 | Val Acc: 0.6000 | Val F1: 0.5238\n",
      "Epoch 3/5 | Train Loss: 0.4933 | Val Loss: 0.6503 | Val Acc: 0.5000 | Val F1: 0.4505\n",
      "Epoch 4/5 | Train Loss: 0.3536 | Val Loss: 0.6504 | Val Acc: 0.6000 | Val F1: 0.5833\n",
      "Early stopping triggered at epoch 4\n",
      "Saved metrics to: ./training/training_metrics\\full_fine_tuning_set_small\\full_fine_tuning_set_small.pkl\n"
     ]
    },
    {
     "data": {
      "application/vnd.jupyter.widget-view+json": {
       "model_id": "01ce8a73678e4c8abb3659fae7134b45",
       "version_major": 2,
       "version_minor": 0
      },
      "text/plain": [
       "pytorch_model.bin:   0%|          | 0.00/438M [00:00<?, ?B/s]"
      ]
     },
     "metadata": {},
     "output_type": "display_data"
    },
    {
     "name": "stdout",
     "output_type": "stream",
     "text": [
      "Model pushed to https://huggingface.co/Jovan23/full_fine_tuning_set_small\n",
      "\n",
      "========== Training full_fine_tuning_set_medium ==========\n",
      "Epoch 1/5 | Train Loss: 0.6721 | Val Loss: 0.5767 | Val Acc: 0.7100 | Val F1: 0.7014\n",
      "Epoch 2/5 | Train Loss: 0.3792 | Val Loss: 0.3409 | Val Acc: 0.8400 | Val F1: 0.8400\n",
      "Epoch 3/5 | Train Loss: 0.2242 | Val Loss: 0.3597 | Val Acc: 0.8800 | Val F1: 0.8800\n",
      "Early stopping triggered at epoch 3\n",
      "Saved metrics to: ./training/training_metrics\\full_fine_tuning_set_medium\\full_fine_tuning_set_medium.pkl\n"
     ]
    },
    {
     "data": {
      "application/vnd.jupyter.widget-view+json": {
       "model_id": "aba35f9d917f4e22bce9db8dd22b0743",
       "version_major": 2,
       "version_minor": 0
      },
      "text/plain": [
       "pytorch_model.bin:   0%|          | 0.00/438M [00:00<?, ?B/s]"
      ]
     },
     "metadata": {},
     "output_type": "display_data"
    },
    {
     "name": "stdout",
     "output_type": "stream",
     "text": [
      "Model pushed to https://huggingface.co/Jovan23/full_fine_tuning_set_medium\n",
      "\n",
      "========== Training full_fine_tuning_set_full ==========\n",
      "Epoch 1/4 | Train Loss: 0.3059 | Val Loss: 0.2052 | Val Acc: 0.9216 | Val F1: 0.9215\n",
      "Epoch 2/4 | Train Loss: 0.1667 | Val Loss: 0.2609 | Val Acc: 0.9252 | Val F1: 0.9252\n",
      "Early stopping triggered at epoch 2\n",
      "Saved metrics to: ./training/training_metrics\\full_fine_tuning_set_full\\full_fine_tuning_set_full.pkl\n"
     ]
    },
    {
     "data": {
      "application/vnd.jupyter.widget-view+json": {
       "model_id": "fef10300dc42430cb71498227e5ebcac",
       "version_major": 2,
       "version_minor": 0
      },
      "text/plain": [
       "pytorch_model.bin:   0%|          | 0.00/438M [00:00<?, ?B/s]"
      ]
     },
     "metadata": {},
     "output_type": "display_data"
    },
    {
     "name": "stdout",
     "output_type": "stream",
     "text": [
      "Model pushed to https://huggingface.co/Jovan23/full_fine_tuning_set_full\n",
      "\n",
      "All runs completed.\n"
     ]
    }
   ],
   "source": [
    "learning_rate = LR['full']\n",
    "\n",
    "for size in ['small', 'medium', 'full']:\n",
    "        name = f\"full_fine_tuning_set_{size}\"\n",
    "\n",
    "        base = copy.deepcopy(base_model)\n",
    "        model = get_full_classification_model(base)\n",
    "\n",
    "        Train(model, size, name, learning_rate)     \n",
    "        save_model_to_hf(model, name)\n",
    "        \n",
    "print(\"\\nAll runs completed.\")"
   ]
  },
  {
   "cell_type": "markdown",
   "id": "ebd17d51",
   "metadata": {},
   "source": [
    "### Classification head Fine-Tuning\n",
    "Run execution on small, medium and full dataset. Save results on HF platform"
   ]
  },
  {
   "cell_type": "code",
   "execution_count": 9,
   "id": "8b4076c7",
   "metadata": {},
   "outputs": [
    {
     "name": "stdout",
     "output_type": "stream",
     "text": [
      "\n",
      "========== Training head_fine_tuning_set_small ==========\n",
      "Epoch 1/5 | Train Loss: 0.7803 | Val Loss: 0.6645 | Val Acc: 0.5000 | Val F1: 0.3333\n",
      "Epoch 2/5 | Train Loss: 0.7360 | Val Loss: 0.6659 | Val Acc: 0.6000 | Val F1: 0.5238\n",
      "Early stopping triggered at epoch 2\n",
      "Saved metrics to: ./training/training_metrics\\head_fine_tuning_set_small\\head_fine_tuning_set_small.pkl\n"
     ]
    },
    {
     "data": {
      "application/vnd.jupyter.widget-view+json": {
       "model_id": "8cb968cd9b6f4b9f8ea6e283d0cb3943",
       "version_major": 2,
       "version_minor": 0
      },
      "text/plain": [
       "pytorch_model.bin:   0%|          | 0.00/438M [00:00<?, ?B/s]"
      ]
     },
     "metadata": {},
     "output_type": "display_data"
    },
    {
     "name": "stdout",
     "output_type": "stream",
     "text": [
      "Model pushed to https://huggingface.co/Jovan23/head_fine_tuning_set_small\n",
      "\n",
      "========== Training head_fine_tuning_set_medium ==========\n",
      "Epoch 1/5 | Train Loss: 0.6873 | Val Loss: 0.6875 | Val Acc: 0.5900 | Val F1: 0.5850\n",
      "Epoch 2/5 | Train Loss: 0.6646 | Val Loss: 0.6702 | Val Acc: 0.6800 | Val F1: 0.6795\n",
      "Epoch 3/5 | Train Loss: 0.6459 | Val Loss: 0.6587 | Val Acc: 0.6700 | Val F1: 0.6700\n",
      "Epoch 4/5 | Train Loss: 0.6331 | Val Loss: 0.6526 | Val Acc: 0.6800 | Val F1: 0.6795\n",
      "Epoch 5/5 | Train Loss: 0.6236 | Val Loss: 0.6506 | Val Acc: 0.6800 | Val F1: 0.6795\n",
      "Saved metrics to: ./training/training_metrics\\head_fine_tuning_set_medium\\head_fine_tuning_set_medium.pkl\n"
     ]
    },
    {
     "data": {
      "application/vnd.jupyter.widget-view+json": {
       "model_id": "d5c7dd3229d9401e8918b716147f7bb1",
       "version_major": 2,
       "version_minor": 0
      },
      "text/plain": [
       "pytorch_model.bin:   0%|          | 0.00/438M [00:00<?, ?B/s]"
      ]
     },
     "metadata": {},
     "output_type": "display_data"
    },
    {
     "name": "stdout",
     "output_type": "stream",
     "text": [
      "Model pushed to https://huggingface.co/Jovan23/head_fine_tuning_set_medium\n",
      "\n",
      "========== Training head_fine_tuning_set_full ==========\n",
      "Epoch 1/4 | Train Loss: 0.5815 | Val Loss: 0.4543 | Val Acc: 0.8228 | Val F1: 0.8228\n",
      "Epoch 2/4 | Train Loss: 0.4547 | Val Loss: 0.4017 | Val Acc: 0.8420 | Val F1: 0.8420\n",
      "Epoch 3/4 | Train Loss: 0.4257 | Val Loss: 0.3867 | Val Acc: 0.8432 | Val F1: 0.8432\n",
      "Epoch 4/4 | Train Loss: 0.4152 | Val Loss: 0.3831 | Val Acc: 0.8452 | Val F1: 0.8452\n",
      "Saved metrics to: ./training/training_metrics\\head_fine_tuning_set_full\\head_fine_tuning_set_full.pkl\n"
     ]
    },
    {
     "data": {
      "application/vnd.jupyter.widget-view+json": {
       "model_id": "ea3105e733fa4b6496f484dfb9933d9f",
       "version_major": 2,
       "version_minor": 0
      },
      "text/plain": [
       "pytorch_model.bin:   0%|          | 0.00/438M [00:00<?, ?B/s]"
      ]
     },
     "metadata": {},
     "output_type": "display_data"
    },
    {
     "name": "stdout",
     "output_type": "stream",
     "text": [
      "Model pushed to https://huggingface.co/Jovan23/head_fine_tuning_set_full\n",
      "\n",
      "All runs completed.\n"
     ]
    }
   ],
   "source": [
    "learning_rate = LR['head']\n",
    "for size in ['small', 'medium', 'full']:\n",
    "        name = f\"head_fine_tuning_set_{size}\"\n",
    "        \n",
    "        base = copy.deepcopy(base_model)\n",
    "        model = get_classification_head_model(base)\n",
    "\n",
    "        Train(model, size, name, learning_rate)     \n",
    "        save_model_to_hf(model, name)\n",
    "    \n",
    "print(\"\\nAll runs completed.\")"
   ]
  },
  {
   "cell_type": "markdown",
   "id": "9e416392",
   "metadata": {},
   "source": [
    "### Adapters  Fine-Tuning\n",
    "Run execution on small, medium and full dataset for different inner dimension adapters size. Save results on HF platform"
   ]
  },
  {
   "cell_type": "code",
   "execution_count": 10,
   "id": "c2758e21",
   "metadata": {},
   "outputs": [],
   "source": [
    "ADAPTERS_SIZE = [\n",
    "    48, 96\n",
    "]"
   ]
  },
  {
   "cell_type": "code",
   "execution_count": 11,
   "id": "b6d3e102",
   "metadata": {},
   "outputs": [
    {
     "name": "stdout",
     "output_type": "stream",
     "text": [
      "\n",
      "========== Training adapters_inner_dim_48_set_small ==========\n",
      "Epoch 1/5 | Train Loss: 0.7044 | Val Loss: 0.7149 | Val Acc: 0.5000 | Val F1: 0.4949\n",
      "Epoch 2/5 | Train Loss: 0.6932 | Val Loss: 0.6486 | Val Acc: 0.7000 | Val F1: 0.6970\n",
      "Epoch 3/5 | Train Loss: 0.6643 | Val Loss: 0.7118 | Val Acc: 0.5000 | Val F1: 0.4505\n",
      "Early stopping triggered at epoch 3\n",
      "Saved metrics to: ./training/training_metrics\\adapters_inner_dim_48_set_small\\adapters_inner_dim_48_set_small.pkl\n"
     ]
    },
    {
     "data": {
      "application/vnd.jupyter.widget-view+json": {
       "model_id": "58945011c17c47328594fe3e3315519a",
       "version_major": 2,
       "version_minor": 0
      },
      "text/plain": [
       "pytorch_model.bin:   0%|          | 0.00/448M [00:00<?, ?B/s]"
      ]
     },
     "metadata": {},
     "output_type": "display_data"
    },
    {
     "name": "stdout",
     "output_type": "stream",
     "text": [
      "Model pushed to https://huggingface.co/Jovan23/adapters_inner_dim_48_set_small\n",
      "\n",
      "========== Training adapters_inner_dim_48_set_medium ==========\n",
      "Epoch 1/5 | Train Loss: 0.6939 | Val Loss: 0.6954 | Val Acc: 0.5800 | Val F1: 0.5798\n",
      "Epoch 2/5 | Train Loss: 0.6592 | Val Loss: 0.7249 | Val Acc: 0.5300 | Val F1: 0.5296\n",
      "Early stopping triggered at epoch 2\n",
      "Saved metrics to: ./training/training_metrics\\adapters_inner_dim_48_set_medium\\adapters_inner_dim_48_set_medium.pkl\n"
     ]
    },
    {
     "data": {
      "application/vnd.jupyter.widget-view+json": {
       "model_id": "c8599f9977dc421ebdd13b038845ffad",
       "version_major": 2,
       "version_minor": 0
      },
      "text/plain": [
       "pytorch_model.bin:   0%|          | 0.00/448M [00:00<?, ?B/s]"
      ]
     },
     "metadata": {},
     "output_type": "display_data"
    },
    {
     "name": "stdout",
     "output_type": "stream",
     "text": [
      "Model pushed to https://huggingface.co/Jovan23/adapters_inner_dim_48_set_medium\n",
      "\n",
      "========== Training adapters_inner_dim_48_set_full ==========\n",
      "Epoch 1/4 | Train Loss: 0.5584 | Val Loss: 0.3979 | Val Acc: 0.8200 | Val F1: 0.8193\n",
      "Epoch 2/4 | Train Loss: 0.3685 | Val Loss: 0.3341 | Val Acc: 0.8544 | Val F1: 0.8543\n",
      "Epoch 3/4 | Train Loss: 0.3265 | Val Loss: 0.3439 | Val Acc: 0.8580 | Val F1: 0.8580\n",
      "Early stopping triggered at epoch 3\n",
      "Saved metrics to: ./training/training_metrics\\adapters_inner_dim_48_set_full\\adapters_inner_dim_48_set_full.pkl\n"
     ]
    },
    {
     "data": {
      "application/vnd.jupyter.widget-view+json": {
       "model_id": "9e683394be1f4139b33cbab1c0553c6c",
       "version_major": 2,
       "version_minor": 0
      },
      "text/plain": [
       "pytorch_model.bin:   0%|          | 0.00/448M [00:00<?, ?B/s]"
      ]
     },
     "metadata": {},
     "output_type": "display_data"
    },
    {
     "name": "stdout",
     "output_type": "stream",
     "text": [
      "Model pushed to https://huggingface.co/Jovan23/adapters_inner_dim_48_set_full\n",
      "\n",
      "========== Training adapters_inner_dim_96_set_small ==========\n",
      "Epoch 1/5 | Train Loss: 0.7150 | Val Loss: 0.7616 | Val Acc: 0.5000 | Val F1: 0.4505\n",
      "Epoch 2/5 | Train Loss: 0.7516 | Val Loss: 0.7428 | Val Acc: 0.4000 | Val F1: 0.2857\n",
      "Epoch 3/5 | Train Loss: 0.7024 | Val Loss: 0.7536 | Val Acc: 0.5000 | Val F1: 0.4505\n",
      "Early stopping triggered at epoch 3\n",
      "Saved metrics to: ./training/training_metrics\\adapters_inner_dim_96_set_small\\adapters_inner_dim_96_set_small.pkl\n"
     ]
    },
    {
     "data": {
      "application/vnd.jupyter.widget-view+json": {
       "model_id": "f3875a7f1006410daa9bb9583a67e0a5",
       "version_major": 2,
       "version_minor": 0
      },
      "text/plain": [
       "pytorch_model.bin:   0%|          | 0.00/448M [00:00<?, ?B/s]"
      ]
     },
     "metadata": {},
     "output_type": "display_data"
    },
    {
     "name": "stdout",
     "output_type": "stream",
     "text": [
      "Model pushed to https://huggingface.co/Jovan23/adapters_inner_dim_96_set_small\n",
      "\n",
      "========== Training adapters_inner_dim_96_set_medium ==========\n",
      "Epoch 1/5 | Train Loss: 0.6731 | Val Loss: 0.7202 | Val Acc: 0.4900 | Val F1: 0.4560\n",
      "Epoch 2/5 | Train Loss: 0.6651 | Val Loss: 0.7024 | Val Acc: 0.5300 | Val F1: 0.5277\n",
      "Epoch 3/5 | Train Loss: 0.6368 | Val Loss: 0.7552 | Val Acc: 0.5500 | Val F1: 0.5331\n",
      "Early stopping triggered at epoch 3\n",
      "Saved metrics to: ./training/training_metrics\\adapters_inner_dim_96_set_medium\\adapters_inner_dim_96_set_medium.pkl\n"
     ]
    },
    {
     "data": {
      "application/vnd.jupyter.widget-view+json": {
       "model_id": "c7701f08a25b4341b2729529496c5edf",
       "version_major": 2,
       "version_minor": 0
      },
      "text/plain": [
       "pytorch_model.bin:   0%|          | 0.00/448M [00:00<?, ?B/s]"
      ]
     },
     "metadata": {},
     "output_type": "display_data"
    },
    {
     "name": "stdout",
     "output_type": "stream",
     "text": [
      "Model pushed to https://huggingface.co/Jovan23/adapters_inner_dim_96_set_medium\n",
      "\n",
      "========== Training adapters_inner_dim_96_set_full ==========\n",
      "Epoch 1/4 | Train Loss: 0.5484 | Val Loss: 0.3784 | Val Acc: 0.8312 | Val F1: 0.8310\n",
      "Epoch 2/4 | Train Loss: 0.3592 | Val Loss: 0.3578 | Val Acc: 0.8472 | Val F1: 0.8465\n",
      "Epoch 3/4 | Train Loss: 0.3217 | Val Loss: 0.3200 | Val Acc: 0.8612 | Val F1: 0.8612\n",
      "Epoch 4/4 | Train Loss: 0.3023 | Val Loss: 0.3233 | Val Acc: 0.8608 | Val F1: 0.8608\n",
      "Early stopping triggered at epoch 4\n",
      "Saved metrics to: ./training/training_metrics\\adapters_inner_dim_96_set_full\\adapters_inner_dim_96_set_full.pkl\n"
     ]
    },
    {
     "data": {
      "application/vnd.jupyter.widget-view+json": {
       "model_id": "f42d2693e88f44419891b24dbfc11790",
       "version_major": 2,
       "version_minor": 0
      },
      "text/plain": [
       "pytorch_model.bin:   0%|          | 0.00/448M [00:00<?, ?B/s]"
      ]
     },
     "metadata": {},
     "output_type": "display_data"
    },
    {
     "name": "stdout",
     "output_type": "stream",
     "text": [
      "Model pushed to https://huggingface.co/Jovan23/adapters_inner_dim_96_set_full\n",
      "\n",
      "All runs completed.\n"
     ]
    }
   ],
   "source": [
    "learning_rate = LR['adapters']\n",
    "\n",
    "for adapter_size in ADAPTERS_SIZE:\n",
    "    for size in ['small', 'medium', 'full']:\n",
    "        name = f\"adapters_inner_dim_{adapter_size}_set_{size}\"\n",
    "\n",
    "        base = copy.deepcopy(base_model)\n",
    "        model = get_adapters_model(base, adapter_size=adapter_size)\n",
    "\n",
    "        Train(model, size, name, learning_rate)     \n",
    "        save_model_to_hf(model, name)\n",
    "        \n",
    "print(\"\\nAll runs completed.\")"
   ]
  },
  {
   "cell_type": "code",
   "execution_count": null,
   "id": "ef0fd620-53b6-4027-9225-e7ef98a2147f",
   "metadata": {},
   "outputs": [],
   "source": []
  },
  {
   "cell_type": "markdown",
   "id": "93d78514",
   "metadata": {},
   "source": [
    "### LoRA  Fine-Tuning\n",
    "Run execution on small, medium and full dataset for different hyperparameters. Save results on HF platform"
   ]
  },
  {
   "cell_type": "code",
   "execution_count": 12,
   "id": "a982111b",
   "metadata": {},
   "outputs": [],
   "source": [
    "LORA_CONFIGS = [\n",
    "    {\"r\": 32, \"alpha\": 64},\n",
    "    {\"r\": 64, \"alpha\": 32}\n",
    "]"
   ]
  },
  {
   "cell_type": "code",
   "execution_count": 13,
   "id": "60e96fa5",
   "metadata": {},
   "outputs": [
    {
     "name": "stdout",
     "output_type": "stream",
     "text": [
      "\n",
      "========== Training lora_r_32_alpha_64_set_small ==========\n",
      "Epoch 1/5 | Train Loss: 0.7005 | Val Loss: 0.7873 | Val Acc: 0.2000 | Val F1: 0.1667\n",
      "Epoch 2/5 | Train Loss: 0.6549 | Val Loss: 0.7983 | Val Acc: 0.3000 | Val F1: 0.2929\n",
      "Early stopping triggered at epoch 2\n",
      "Saved metrics to: ./training/training_metrics\\lora_r_32_alpha_64_set_small\\lora_r_32_alpha_64_set_small.pkl\n"
     ]
    },
    {
     "data": {
      "application/vnd.jupyter.widget-view+json": {
       "model_id": "9a786cf8f8f942fb94132e61027ff358",
       "version_major": 2,
       "version_minor": 0
      },
      "text/plain": [
       "pytorch_model.bin:   0%|          | 0.00/443M [00:00<?, ?B/s]"
      ]
     },
     "metadata": {},
     "output_type": "display_data"
    },
    {
     "name": "stdout",
     "output_type": "stream",
     "text": [
      "Model pushed to https://huggingface.co/Jovan23/lora_r_32_alpha_64_set_small\n",
      "\n",
      "========== Training lora_r_32_alpha_64_set_medium ==========\n",
      "Epoch 1/5 | Train Loss: 0.6217 | Val Loss: 0.5366 | Val Acc: 0.7200 | Val F1: 0.7029\n",
      "Epoch 2/5 | Train Loss: 0.3574 | Val Loss: 0.3147 | Val Acc: 0.8900 | Val F1: 0.8900\n",
      "Epoch 3/5 | Train Loss: 0.2598 | Val Loss: 0.2971 | Val Acc: 0.8900 | Val F1: 0.8900\n",
      "Epoch 4/5 | Train Loss: 0.2404 | Val Loss: 0.2969 | Val Acc: 0.9000 | Val F1: 0.9000\n",
      "Epoch 5/5 | Train Loss: 0.2026 | Val Loss: 0.3056 | Val Acc: 0.9100 | Val F1: 0.9100\n",
      "Early stopping triggered at epoch 5\n",
      "Saved metrics to: ./training/training_metrics\\lora_r_32_alpha_64_set_medium\\lora_r_32_alpha_64_set_medium.pkl\n"
     ]
    },
    {
     "data": {
      "application/vnd.jupyter.widget-view+json": {
       "model_id": "fd4aa2967eb24729bac82fed28fb5101",
       "version_major": 2,
       "version_minor": 0
      },
      "text/plain": [
       "pytorch_model.bin:   0%|          | 0.00/443M [00:00<?, ?B/s]"
      ]
     },
     "metadata": {},
     "output_type": "display_data"
    },
    {
     "name": "stdout",
     "output_type": "stream",
     "text": [
      "Model pushed to https://huggingface.co/Jovan23/lora_r_32_alpha_64_set_medium\n",
      "\n",
      "========== Training lora_r_32_alpha_64_set_full ==========\n",
      "Epoch 1/4 | Train Loss: 0.3222 | Val Loss: 0.2155 | Val Acc: 0.9168 | Val F1: 0.9168\n",
      "Epoch 2/4 | Train Loss: 0.1937 | Val Loss: 0.2343 | Val Acc: 0.9164 | Val F1: 0.9164\n",
      "Early stopping triggered at epoch 2\n",
      "Saved metrics to: ./training/training_metrics\\lora_r_32_alpha_64_set_full\\lora_r_32_alpha_64_set_full.pkl\n"
     ]
    },
    {
     "data": {
      "application/vnd.jupyter.widget-view+json": {
       "model_id": "ea8de95cf1ce4082888144e3c5157242",
       "version_major": 2,
       "version_minor": 0
      },
      "text/plain": [
       "pytorch_model.bin:   0%|          | 0.00/443M [00:00<?, ?B/s]"
      ]
     },
     "metadata": {},
     "output_type": "display_data"
    },
    {
     "name": "stdout",
     "output_type": "stream",
     "text": [
      "Model pushed to https://huggingface.co/Jovan23/lora_r_32_alpha_64_set_full\n",
      "\n",
      "========== Training lora_r_64_alpha_32_set_small ==========\n",
      "Epoch 1/5 | Train Loss: 0.7111 | Val Loss: 0.6853 | Val Acc: 0.5000 | Val F1: 0.4949\n",
      "Epoch 2/5 | Train Loss: 0.6945 | Val Loss: 0.6921 | Val Acc: 0.4000 | Val F1: 0.4000\n",
      "Early stopping triggered at epoch 2\n",
      "Saved metrics to: ./training/training_metrics\\lora_r_64_alpha_32_set_small\\lora_r_64_alpha_32_set_small.pkl\n"
     ]
    },
    {
     "data": {
      "application/vnd.jupyter.widget-view+json": {
       "model_id": "0192fc8586654e5aa4619d1dbcabdbe2",
       "version_major": 2,
       "version_minor": 0
      },
      "text/plain": [
       "pytorch_model.bin:   0%|          | 0.00/447M [00:00<?, ?B/s]"
      ]
     },
     "metadata": {},
     "output_type": "display_data"
    },
    {
     "name": "stdout",
     "output_type": "stream",
     "text": [
      "Model pushed to https://huggingface.co/Jovan23/lora_r_64_alpha_32_set_small\n",
      "\n",
      "========== Training lora_r_64_alpha_32_set_medium ==========\n",
      "Epoch 1/5 | Train Loss: 0.6736 | Val Loss: 0.6174 | Val Acc: 0.7600 | Val F1: 0.7552\n",
      "Epoch 2/5 | Train Loss: 0.4691 | Val Loss: 0.4110 | Val Acc: 0.8400 | Val F1: 0.8390\n",
      "Epoch 3/5 | Train Loss: 0.3210 | Val Loss: 0.3358 | Val Acc: 0.8700 | Val F1: 0.8700\n",
      "Epoch 4/5 | Train Loss: 0.2760 | Val Loss: 0.3236 | Val Acc: 0.8900 | Val F1: 0.8900\n",
      "Epoch 5/5 | Train Loss: 0.2698 | Val Loss: 0.3221 | Val Acc: 0.8900 | Val F1: 0.8900\n",
      "Saved metrics to: ./training/training_metrics\\lora_r_64_alpha_32_set_medium\\lora_r_64_alpha_32_set_medium.pkl\n"
     ]
    },
    {
     "data": {
      "application/vnd.jupyter.widget-view+json": {
       "model_id": "414c0d3c72904237b277c7c9685148c6",
       "version_major": 2,
       "version_minor": 0
      },
      "text/plain": [
       "pytorch_model.bin:   0%|          | 0.00/447M [00:00<?, ?B/s]"
      ]
     },
     "metadata": {},
     "output_type": "display_data"
    },
    {
     "name": "stdout",
     "output_type": "stream",
     "text": [
      "Model pushed to https://huggingface.co/Jovan23/lora_r_64_alpha_32_set_medium\n",
      "\n",
      "========== Training lora_r_64_alpha_32_set_full ==========\n",
      "Epoch 1/4 | Train Loss: 0.3344 | Val Loss: 0.2394 | Val Acc: 0.9100 | Val F1: 0.9099\n",
      "Epoch 2/4 | Train Loss: 0.1992 | Val Loss: 0.2087 | Val Acc: 0.9216 | Val F1: 0.9215\n",
      "Epoch 3/4 | Train Loss: 0.1723 | Val Loss: 0.2236 | Val Acc: 0.9220 | Val F1: 0.9220\n",
      "Early stopping triggered at epoch 3\n",
      "Saved metrics to: ./training/training_metrics\\lora_r_64_alpha_32_set_full\\lora_r_64_alpha_32_set_full.pkl\n"
     ]
    },
    {
     "data": {
      "application/vnd.jupyter.widget-view+json": {
       "model_id": "f515532573574a90894c3d0ad812ce26",
       "version_major": 2,
       "version_minor": 0
      },
      "text/plain": [
       "pytorch_model.bin:   0%|          | 0.00/447M [00:00<?, ?B/s]"
      ]
     },
     "metadata": {},
     "output_type": "display_data"
    },
    {
     "name": "stdout",
     "output_type": "stream",
     "text": [
      "Model pushed to https://huggingface.co/Jovan23/lora_r_64_alpha_32_set_full\n",
      "\n",
      "All runs completed.\n"
     ]
    }
   ],
   "source": [
    "learning_rate = LR['lora']\n",
    "for cfg in LORA_CONFIGS:\n",
    "    for size in ['small', 'medium', 'full']:\n",
    "        r = cfg['r']\n",
    "        alpha = cfg['alpha']\n",
    "        name = f\"lora_r_{r}_alpha_{alpha}_set_{size}\"\n",
    "\n",
    "        base = copy.deepcopy(base_model)\n",
    "        model = get_lora_model(base, rank=r, alpha=alpha)\n",
    "\n",
    "        Train(model, size, name, learning_rate)     \n",
    "        save_model_to_hf(model, name)\n",
    "        \n",
    "print(\"\\nAll runs completed.\")"
   ]
  },
  {
   "cell_type": "code",
   "execution_count": null,
   "id": "ad1f2d8b",
   "metadata": {},
   "outputs": [],
   "source": []
  }
 ],
 "metadata": {
  "kernelspec": {
   "display_name": "Python 3 (ipykernel)",
   "language": "python",
   "name": "python3"
  },
  "language_info": {
   "codemirror_mode": {
    "name": "ipython",
    "version": 3
   },
   "file_extension": ".py",
   "mimetype": "text/x-python",
   "name": "python",
   "nbconvert_exporter": "python",
   "pygments_lexer": "ipython3",
   "version": "3.10.12"
  }
 },
 "nbformat": 4,
 "nbformat_minor": 5
}
