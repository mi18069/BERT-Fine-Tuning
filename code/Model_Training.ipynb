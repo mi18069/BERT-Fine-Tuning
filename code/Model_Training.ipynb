{
 "cells": [
  {
   "cell_type": "markdown",
   "id": "1dbf7c63",
   "metadata": {},
   "source": [
    "# Model Training\n",
    "This notebook is used for training purposes of training and saving fine-tuned models on different size datasets and hiperparameters"
   ]
  },
  {
   "cell_type": "markdown",
   "id": "09633aa4",
   "metadata": {},
   "source": [
    "## Load Base Model\n",
    "\n",
    "Load base DistilBERT uncased model that will be used as a starting pretrained model for fine-tuning models\n"
   ]
  },
  {
   "cell_type": "code",
   "execution_count": 1,
   "id": "3f60b0e7",
   "metadata": {},
   "outputs": [],
   "source": [
    "from transformers import AutoModel\n",
    "import torch"
   ]
  },
  {
   "cell_type": "code",
   "execution_count": 3,
   "id": "266f58a4",
   "metadata": {},
   "outputs": [],
   "source": [
    "base_model = AutoModel.from_pretrained(\"bert-base-uncased\", torch_dtype=torch.float32)"
   ]
  },
  {
   "cell_type": "markdown",
   "id": "92ae703f",
   "metadata": {},
   "source": [
    "Import necessary libraries for model training "
   ]
  },
  {
   "cell_type": "markdown",
   "id": "b3615cd9",
   "metadata": {},
   "source": [
    "## Prepare data for training\n",
    "\n",
    "Import necessary libraries and set global parameters for training and saving model"
   ]
  },
  {
   "cell_type": "code",
   "execution_count": null,
   "id": "4ee8725e",
   "metadata": {},
   "outputs": [],
   "source": [
    "import os\n",
    "import torch\n",
    "from torch.utils.data import DataLoader\n",
    "from transformers import AutoModel\n",
    "from models.ModelRetriever import get_full_classification_model, get_classification_head_model, get_adapters_model, get_lora_model\n",
    "from hf_utils import save_model_to_hf\n",
    "import json\n",
    "import time\n",
    "import pickle\n",
    "from sklearn.metrics import accuracy_score, f1_score\n",
    "from datasets import load_from_disk\n",
    "from torch import nn"
   ]
  },
  {
   "cell_type": "code",
   "execution_count": null,
   "id": "e48c1b7b",
   "metadata": {},
   "outputs": [],
   "source": [
    "METRICS_DIR = './training/training_metrics'\n",
    "TRAINER_DIR = './training/trainer_metrics'\n",
    "SEED = 42\n",
    "\n",
    "LR = 2e-4\n",
    "EPOCHS = 10 \n",
    "NUM_LABELS = 2 # Binary classification problem\n",
    "MAX_LENGTH = 512 # Max length of tokens for examples, if less pad with 0, if more truncate\n",
    "BATCH_SIZE=32 \n",
    "DEVICE = \"cuda\" if torch.cuda.is_available() else \"cpu\""
   ]
  },
  {
   "cell_type": "markdown",
   "id": "e2cc1f1d",
   "metadata": {},
   "source": [
    "Paths to vectorized datasets ready for models to use <br>\n",
    "If empty, run Dataset_Loader.ipynb notebook"
   ]
  },
  {
   "cell_type": "code",
   "execution_count": null,
   "id": "7aa001ea",
   "metadata": {},
   "outputs": [],
   "source": [
    "DATASETS_PATHS = {\n",
    "    'small': {\n",
    "        'train': './datasets/train_dataset_small',\n",
    "        'validation': './datasets/validation_dataset_small',\n",
    "        'test': './datasets/test_dataset'\n",
    "    },\n",
    "    'medium': {\n",
    "        'train': './datasets/train_dataset_medium',\n",
    "        'validation': './datasets/validation_dataset_medium',\n",
    "        'test': './datasets/test_dataset'\n",
    "    },\n",
    "    'full': {\n",
    "        'train': './datasets/full_train',\n",
    "        'validation': './datasets/full_validation',\n",
    "        'test': './datasets/test_dataset'\n",
    "    }\n",
    "}"
   ]
  },
  {
   "cell_type": "markdown",
   "id": "54f6f958",
   "metadata": {},
   "source": [
    "## Functions for training process\n",
    "\n",
    "For performing and monitoring training processes, also contains functions for saving results"
   ]
  },
  {
   "cell_type": "markdown",
   "id": "9c092a5c",
   "metadata": {},
   "source": [
    "Monitor training metrics, such as time for each epoch and gpu memory usage"
   ]
  },
  {
   "cell_type": "code",
   "execution_count": null,
   "id": "227c3682",
   "metadata": {},
   "outputs": [],
   "source": [
    "class TrainingLogger:\n",
    "    \"\"\"\n",
    "    Tracks per-epoch time and GPU memory usage.\n",
    "    \"\"\"\n",
    "    def __init__(self):\n",
    "        self.epoch_times = []\n",
    "        self.memory_log = []\n",
    "        self.start_time = None\n",
    "        self.total_training_time = None\n",
    "\n",
    "    def start_training(self):\n",
    "        self.start_time = time.time()\n",
    "\n",
    "    def end_training(self):\n",
    "        self.total_training_time = time.time() - self.start_time\n",
    "\n",
    "    def log_epoch(self, epoch, epoch_start_time):\n",
    "        # time\n",
    "        epoch_time = time.time() - epoch_start_time\n",
    "        self.epoch_times.append({\"epoch\": epoch + 1, \"time_seconds\": epoch_time})\n",
    "\n",
    "        # GPU mem\n",
    "        if torch.cuda.is_available():\n",
    "            mem_mb = torch.cuda.memory_allocated(0) // (1024 ** 2)\n",
    "            self.memory_log.append({\"epoch\": epoch + 1, \"gpu_memory_used_mb\": int(mem_mb)})"
   ]
  },
  {
   "cell_type": "markdown",
   "id": "e4c0f2a6",
   "metadata": {},
   "source": [
    "Monitor training metrics for later analisys"
   ]
  },
  {
   "cell_type": "code",
   "execution_count": null,
   "id": "7a59251c",
   "metadata": {},
   "outputs": [],
   "source": [
    "class ModelTrainer:\n",
    "    def __init__(self, model: nn.Module, device: str = 'cpu'):\n",
    "        self.model = model.to(device)\n",
    "        self.device = device\n",
    "\n",
    "    def train(\n",
    "        self,\n",
    "        train_loader: DataLoader,\n",
    "        val_loader: DataLoader,\n",
    "        optimizer: torch.optim.Optimizer,\n",
    "        loss_fn: nn.Module,\n",
    "        epochs: int,\n",
    "        save_dir: TRAINER_DIR,\n",
    "        filename: str,\n",
    "        num_labels: int = 2,\n",
    "        grad_clip: float = 1.0\n",
    "    ):\n",
    "        os.makedirs(save_dir, exist_ok=True)\n",
    "\n",
    "        logger = TrainingLogger()\n",
    "        logger.start_training()\n",
    "\n",
    "        history = {\"train_loss\": [], \"val_loss\": [], \"val_accuracy\": [], \"val_f1\": []}\n",
    "\n",
    "        for epoch in range(epochs):\n",
    "            epoch_start = time.time()\n",
    "            self.model.train()\n",
    "            running_loss = 0.0\n",
    "\n",
    "            for batch in train_loader:\n",
    "                input_ids     = batch[\"input_ids\"].to(self.device)\n",
    "                attention_mask= batch[\"attention_mask\"].to(self.device)\n",
    "                labels        = batch[\"label\"].to(self.device)\n",
    "\n",
    "                optimizer.zero_grad(set_to_none=True)\n",
    "                logits = self.model(input_ids, attn_mask=attention_mask)\n",
    "                loss = loss_fn(logits, labels)\n",
    "                loss.backward()\n",
    "\n",
    "                if grad_clip is not None:\n",
    "                    torch.nn.utils.clip_grad_norm_(\n",
    "                        (p for p in self.model.parameters() if p.requires_grad), grad_clip\n",
    "                    )\n",
    "\n",
    "                optimizer.step()\n",
    "\n",
    "                running_loss += loss.item()\n",
    "\n",
    "            avg_train_loss = running_loss / max(1, len(train_loader))\n",
    "            history[\"train_loss\"].append(avg_train_loss)\n",
    "\n",
    "            # ---- validation ----\n",
    "            self.model.eval()\n",
    "            val_loss = 0.0\n",
    "            all_preds, all_labels = [], []\n",
    "            with torch.no_grad():\n",
    "                for batch in val_loader:\n",
    "                    input_ids      = batch[\"input_ids\"].to(self.device)\n",
    "                    attention_mask = batch[\"attention_mask\"].to(self.device)\n",
    "                    labels         = batch[\"label\"].to(self.device)\n",
    "\n",
    "                    logits = self.model(input_ids, attn_mask=attention_mask)\n",
    "                    loss = loss_fn(logits, labels)\n",
    "                    val_loss += loss.item()\n",
    "\n",
    "                    preds = torch.argmax(logits, dim=1).cpu()\n",
    "                    all_preds.extend(preds.tolist())\n",
    "                    all_labels.extend(labels.cpu().tolist())\n",
    "\n",
    "            avg_val_loss = val_loss / max(1, len(val_loader))\n",
    "            val_acc = accuracy_score(torch.tensor(all_labels), torch.tensor(all_preds))\n",
    "            val_f1 = f1_score(all_labels, all_preds, average=\"weighted\", labels=list(range(num_labels)))\n",
    "            \n",
    "            history[\"val_loss\"].append(avg_val_loss)\n",
    "            history[\"val_accuracy\"].append(val_acc)\n",
    "            history[\"val_f1\"].append(val_f1)\n",
    "\n",
    "            logger.log_epoch(epoch, epoch_start)\n",
    "\n",
    "            print(\n",
    "                f\"Epoch {epoch+1}/{epochs} | \"\n",
    "                f\"Train Loss: {avg_train_loss:.4f} | \"\n",
    "                f\"Val Loss: {avg_val_loss:.4f} | \"\n",
    "                f\"Val Acc: {val_acc:.4f} | \"\n",
    "                f\"Val F1: {val_f1:.4f}\"\n",
    "            )\n",
    "\n",
    "        logger.end_training()\n",
    "\n",
    "        # persist logs\n",
    "        log_blob = {\n",
    "            \"history\": history,\n",
    "            \"epoch_times\": logger.epoch_times,\n",
    "            \"gpu_memory_log\": logger.memory_log,\n",
    "            \"total_training_time_seconds\": logger.total_training_time,\n",
    "        }\n",
    "        \n",
    "        file_path = os.path.join(save_dir, f\"{filename}.pkl\")\n",
    "        with open(file_path, \"wb\") as f:\n",
    "            pickle.dump(log_blob, f)\n",
    "\n",
    "        print(f\"Saved metrics to: {file_path}\")\n",
    "        return history"
   ]
  },
  {
   "cell_type": "markdown",
   "id": "af1c8fc2",
   "metadata": {},
   "source": [
    "Start training process for each model <br>\n",
    "Returns fine-tuned model"
   ]
  },
  {
   "cell_type": "code",
   "execution_count": null,
   "id": "3a8cc484",
   "metadata": {},
   "outputs": [],
   "source": [
    "def Train(model, size, name):\n",
    "    print(f\"\\n========== Training {name} ==========\")\n",
    "    save_dir = os.path.join(METRICS_DIR, name)\n",
    "\n",
    "    train_ds = load_from_disk(DATASETS_PATHS[size]['train'])\n",
    "    val_ds = load_from_disk(DATASETS_PATHS[size]['validation'])\n",
    "\n",
    "    train_ds.set_format(type='torch', columns=['input_ids', 'attention_mask', 'label'])\n",
    "    val_ds.set_format(type='torch', columns=['input_ids', 'attention_mask', 'label'])\n",
    "\n",
    "    train_loader = DataLoader(train_ds, batch_size=BATCH_SIZE, shuffle=True)\n",
    "    val_loader = DataLoader(val_ds, batch_size=BATCH_SIZE, shuffle=False)     \n",
    "\n",
    "    # optimizer only on trainable params\n",
    "    optim = torch.optim.AdamW([p for p in model.parameters() if p.requires_grad], lr=LR)\n",
    "    loss_fn = nn.CrossEntropyLoss()\n",
    "\n",
    "    # log param counts\n",
    "    trainable_params = sum(p.numel() for p in model.parameters() if p.requires_grad)\n",
    "    total_params     = sum(p.numel() for p in model.parameters())\n",
    "    os.makedirs(os.path.join(save_dir), exist_ok=True)\n",
    "    with open(os.path.join(save_dir, \"run_config.json\"), \"w\") as f:\n",
    "        json.dump({\n",
    "            \"model_name\": name,\n",
    "            \"epochs\": EPOCHS,\n",
    "            \"lr\": LR,\n",
    "            \"num_labels\": NUM_LABELS,\n",
    "            \"max_length\": MAX_LENGTH,\n",
    "            \"trainable_params\": int(trainable_params),\n",
    "            \"total_params\": int(total_params),\n",
    "            \"device\": DEVICE\n",
    "        }, f, indent=2)\n",
    "\n",
    "    # Train model\n",
    "    trainer = ModelTrainer(model, device=DEVICE)\n",
    "    trainer.train(\n",
    "        train_loader=train_loader,\n",
    "        val_loader=val_loader,\n",
    "        optimizer=optim,\n",
    "        loss_fn=loss_fn,\n",
    "        epochs=EPOCHS,\n",
    "        save_dir=save_dir,\n",
    "        filename=name,\n",
    "        num_labels=NUM_LABELS,\n",
    "        grad_clip=1.0\n",
    "    )\n",
    "\n"
   ]
  },
  {
   "cell_type": "markdown",
   "id": "714413af",
   "metadata": {},
   "source": [
    "## Train models\n",
    "\n",
    "Each function will take base model, transform it to specific model suitable for different fine-tuning purpose and run execution on small, medium and full dataset. Returned model is saved on Hugging Face platform "
   ]
  },
  {
   "cell_type": "markdown",
   "id": "2b28d566",
   "metadata": {},
   "source": [
    "### Full Fine-Tuning\n",
    "Run execution on small, medium and full dataset. Save results on HF platform"
   ]
  },
  {
   "cell_type": "code",
   "execution_count": null,
   "id": "f45d7178",
   "metadata": {},
   "outputs": [],
   "source": [
    "for size in ['small', 'medium', 'full']:\n",
    "        name = f\"full_fine_tuning_set_{size}\"\n",
    "\n",
    "        base = base_model\n",
    "        model = get_full_classification_model(base)\n",
    "\n",
    "        Train(model, size, name)     \n",
    "        save_model_to_hf(model, name)\n",
    "        \n",
    "print(\"\\nAll runs completed.\")"
   ]
  },
  {
   "cell_type": "markdown",
   "id": "ebd17d51",
   "metadata": {},
   "source": [
    "### Classification head Fine-Tuning\n",
    "Run execution on small, medium and full dataset. Save results on HF platform"
   ]
  },
  {
   "cell_type": "code",
   "execution_count": null,
   "id": "8b4076c7",
   "metadata": {},
   "outputs": [],
   "source": [
    "for size in ['small', 'medium', 'full']:\n",
    "        name = f\"head_fine_tuning_set_{size}\"\n",
    "\n",
    "        base = base_model\n",
    "        model = get_classification_head_model(base)\n",
    "\n",
    "        Train(model, size, name)     \n",
    "        save_model_to_hf(mode, name)\n",
    "print(\"\\nAll runs completed.\")"
   ]
  },
  {
   "cell_type": "markdown",
   "id": "9e416392",
   "metadata": {},
   "source": [
    "### Adapters  Fine-Tuning\n",
    "Run execution on small, medium and full dataset for different inner dimension adapters size. Save results on HF platform"
   ]
  },
  {
   "cell_type": "code",
   "execution_count": null,
   "id": "c2758e21",
   "metadata": {},
   "outputs": [],
   "source": [
    "ADAPTERS_SIZE = [\n",
    "    32, 64, 128\n",
    "]"
   ]
  },
  {
   "cell_type": "code",
   "execution_count": null,
   "id": "b6d3e102",
   "metadata": {},
   "outputs": [],
   "source": [
    "for adapter_size in ADAPTERS_SIZE:\n",
    "    for size in ['small', 'medium', 'full']:\n",
    "        name = f\"adapters_a_size_{adapter_size}_set_{size}\"\n",
    "\n",
    "        base = base_model\n",
    "        model = get_adapters_model(base, adapter_size=adapter_size)\n",
    "\n",
    "        Train(model, size, name)     \n",
    "\n",
    "print(\"\\nAll runs completed.\")"
   ]
  },
  {
   "cell_type": "markdown",
   "id": "93d78514",
   "metadata": {},
   "source": [
    "### LoRA  Fine-Tuning\n",
    "Run execution on small, medium and full dataset for different hyperparameters. Save results on HF platform"
   ]
  },
  {
   "cell_type": "code",
   "execution_count": null,
   "id": "a982111b",
   "metadata": {},
   "outputs": [],
   "source": [
    "LORA_CONFIGS = [\n",
    "    {\"r\": 4, \"alpha\": 2},\n",
    "    {\"r\": 8, \"alpha\": 4},\n",
    "    {\"r\": 32, \"alpha\": 16},\n",
    "    {\"r\": 4, \"alpha\": 8},\n",
    "    {\"r\": 8, \"alpha\": 16},\n",
    "    {\"r\": 32, \"alpha\": 64},\n",
    "]"
   ]
  },
  {
   "cell_type": "code",
   "execution_count": null,
   "id": "60e96fa5",
   "metadata": {},
   "outputs": [],
   "source": [
    "for cfg in LORA_CONFIGS:\n",
    "    for size in ['small', 'medium', 'full']:\n",
    "        r = cfg['r']\n",
    "        alpha = cfg['alpha']\n",
    "        name = f\"lora_r_{r}_alpha_{alpha}_set_{size}\"\n",
    "\n",
    "        base = base_model\n",
    "        model = get_lora_model(base, rank=r, alpha=alpha)\n",
    "\n",
    "        Train(model, size, name)     \n",
    "\n",
    "print(\"\\nAll runs completed.\")"
   ]
  }
 ],
 "metadata": {
  "kernelspec": {
   "display_name": "Python 3 (ipykernel)",
   "language": "python",
   "name": "python3"
  },
  "language_info": {
   "codemirror_mode": {
    "name": "ipython",
    "version": 3
   },
   "file_extension": ".py",
   "mimetype": "text/x-python",
   "name": "python",
   "nbconvert_exporter": "python",
   "pygments_lexer": "ipython3",
   "version": "3.10.12"
  }
 },
 "nbformat": 4,
 "nbformat_minor": 5
}
