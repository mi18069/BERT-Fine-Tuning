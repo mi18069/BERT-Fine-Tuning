{
 "cells": [
  {
   "cell_type": "code",
   "execution_count": 1,
   "id": "5c454af8",
   "metadata": {},
   "outputs": [],
   "source": [
    "import torch\n",
    "import json\n",
    "import os\n",
    "from sklearn.metrics import accuracy_score, precision_recall_fscore_support, classification_report, confusion_matrix\n",
    "import matplotlib.pyplot as plt\n",
    "import seaborn as sns"
   ]
  },
  {
   "cell_type": "code",
   "execution_count": 2,
   "id": "b57c86a0",
   "metadata": {},
   "outputs": [],
   "source": [
    "class ModelEvaluator:\n",
    "    def __init__(self, model: torch.nn.Module, device: str = \"cuda\" if torch.cuda.is_available() else \"cpu\"):\n",
    "        self.model = model.to(device)\n",
    "        self.device = device\n",
    "        self.results = {}\n",
    "\n",
    "    def evaluate(self, dataloader, num_labels=2, label_names=None):\n",
    "        \"\"\"\n",
    "        Evaluates a PyTorch model on a given DataLoader.\n",
    "        \"\"\"\n",
    "        self.model.eval()\n",
    "        y_true, y_pred, all_scores = [], [], []\n",
    "\n",
    "        with torch.no_grad():\n",
    "            for batch in dataloader:\n",
    "                input_ids      = batch[\"input_ids\"].to(self.device)\n",
    "                attention_mask = batch[\"attention_mask\"].to(self.device)\n",
    "                labels         = batch[\"label\"].to(self.device)\n",
    "\n",
    "                logits = self.model(input_ids, attention_mask=attention_mask)\n",
    "                probs = torch.softmax(logits, dim=1)[:, 1]\n",
    "                preds = torch.argmax(logits, dim=1)\n",
    "\n",
    "                y_true.extend(labels.cpu().tolist())\n",
    "                y_pred.extend(preds.cpu().tolist())\n",
    "                all_scores.extend(probs.cpu().tolist())\n",
    "\n",
    "        self._compute_metrics(y_true, y_pred, all_scores, num_labels=num_labels, label_names=label_names)\n",
    "\n",
    "    def _compute_metrics(self, y_true, y_pred, all_scores, num_labels=2, label_names=None):\n",
    "        \"\"\"\n",
    "        Compute classification metrics.\n",
    "        \"\"\"\n",
    "        accuracy_val = accuracy_score(y_true, y_pred)\n",
    "        precision, recall, f1, _ = precision_recall_fscore_support(y_true, y_pred, average='weighted', labels=list(range(num_labels)))\n",
    "        \n",
    "        roc_auc = roc_auc_score(y_true, all_scores)\n",
    "        pr_auc = average_precision_score(y_true, all_scores)\n",
    "\n",
    "        self.results = {\n",
    "            \"y_true\": y_true,\n",
    "            \"y_pred\": y_pred,\n",
    "            \"y_prob\": all_scores,\n",
    "            \"accuracy\": accuracy_val,\n",
    "            \"precision\": precision,\n",
    "            \"recall\": recall,\n",
    "            \"f1_score\": f1,\n",
    "            \"report\": classification_report(y_true, y_pred, target_names=label_names, output_dict=True),\n",
    "            \"confusion_matrix\": confusion_matrix(y_true, y_pred).tolist(),\n",
    "            \"roc_auc\": roc_auc,\n",
    "            \"pr_auc\": pr_auc\n",
    "        }\n",
    "        \n",
    "    def save_results(self, filepath=\"evaluation_metrics/results.json\"):\n",
    "        os.makedirs(os.path.dirname(filepath), exist_ok=True)\n",
    "        with open(filepath, 'w') as f:\n",
    "            json.dump(self.results, f, indent=4)\n",
    "        print(f\"Saved evaluation results to {filepath}\")"
   ]
  },
  {
   "cell_type": "code",
   "execution_count": null,
   "id": "be4f0e2b",
   "metadata": {},
   "outputs": [],
   "source": []
  }
 ],
 "metadata": {
  "kernelspec": {
   "display_name": "Python 3 (ipykernel)",
   "language": "python",
   "name": "python3"
  },
  "language_info": {
   "codemirror_mode": {
    "name": "ipython",
    "version": 3
   },
   "file_extension": ".py",
   "mimetype": "text/x-python",
   "name": "python",
   "nbconvert_exporter": "python",
   "pygments_lexer": "ipython3",
   "version": "3.10.12"
  }
 },
 "nbformat": 4,
 "nbformat_minor": 5
}
